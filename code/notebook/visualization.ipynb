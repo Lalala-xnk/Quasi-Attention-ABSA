{
 "cells": [
  {
   "cell_type": "code",
   "execution_count": null,
   "metadata": {},
   "outputs": [],
   "source": [
    "# plots grads change and test loss change"
   ]
  },
  {
   "cell_type": "code",
   "execution_count": null,
   "metadata": {},
   "outputs": [],
   "source": [
    "import pickle\n",
    "import torch\n",
    "import torch.nn as nn\n",
    "import matplotlib.pyplot as plt\n",
    "\n",
    "# heatmap visualization\n",
    "import sys\n",
    "sys.path.insert(0,'/Users/zhengxuanw/Dropbox/ABSA-transformer/code/')\n",
    "sys.path.insert(0,'/Users/zhengxuanw/Dropbox/ABSA-transformer/code/model/')\n",
    "from model.ContextBERT import *\n",
    "\n",
    "import pickle\n",
    "import re\n",
    "import os\n",
    "\n",
    "import random\n",
    "import numpy as np\n",
    "import torch\n",
    "from random import shuffle\n",
    "import argparse\n",
    "import pickle\n",
    "\n",
    "import collections\n",
    "\n",
    "import torch\n",
    "import torch.nn as nn\n",
    "import torch.nn.functional as F\n",
    "import torch.optim as optim\n",
    "\n",
    "from model.BiLSTM import *\n",
    "from model.BERT import *\n",
    "from model.BERTSimple import *\n",
    "from model.ContextBERT import *\n",
    "from model.HeadwiseContextBERT import *\n",
    "\n",
    "from sklearn.metrics import f1_score, accuracy_score, roc_auc_score\n",
    "\n",
    "from torch.utils.data import DataLoader, TensorDataset\n",
    "from torch.utils.data.distributed import DistributedSampler\n",
    "from torch.utils.data.sampler import RandomSampler, SequentialSampler\n",
    "from tqdm import tqdm, trange\n",
    "\n",
    "from util.optimization import BERTAdam\n",
    "from util.processor import (Sentihood_NLI_M_Processor,\n",
    "                            Semeval_NLI_M_Processor)\n",
    "\n",
    "from util.tokenization import *\n",
    "\n",
    "from evaluation import *\n",
    "\n",
    "from util.processor import *\n",
    "from run_classifier_TABSA import *\n",
    "\n",
    "import seaborn as sns; sns.set()\n",
    "plt.rcParams[\"font.family\"] = \"Times New Roman\""
   ]
  },
  {
   "cell_type": "code",
   "execution_count": null,
   "metadata": {},
   "outputs": [],
   "source": [
    "# init grad\n",
    "init_grad = pickle.load(open(\"grads_out_init.p\", \"rb\"))\n",
    "\n",
    "def GradDiff(grad1, grad2):\n",
    "    batch_count = len(grad1)\n",
    "    dist = 0.0\n",
    "    cos = nn.CosineSimilarity(dim=-1, eps=1e-12)\n",
    "    sample_count = 0 \n",
    "    for i in range(0, batch_count):\n",
    "        sample_count += grad1[i].shape[0]\n",
    "        dist += cos(grad1[i], grad2[i]).sum()\n",
    "    return dist / sample_count\n",
    "\n",
    "time_steps = 30\n",
    "grads_list = []\n",
    "for i in range(time_steps):\n",
    "    file_in = \"grads_out_\" + str(i+1) + \".p\"\n",
    "    curr_grad = pickle.load(open(file_in, \"rb\"))\n",
    "    grads_list.append(GradDiff(curr_grad, init_grad).tolist())\n",
    "\n",
    "# quasi semeval\n",
    "grads = [1, 0.7454711198806763, 0.771233081817627, 0.7722960114479065, 0.7754009366035461, 0.7392681837081909, 0.7296900153160095, 0.7294723391532898, 0.7259636521339417, 0.7202203869819641, 0.7011971473693848, 0.5905196070671082, 0.5566345453262329, 0.46856555342674255, 0.42534950375556946, 0.5280004143714905, 0.5969454646110535, 0.5390850901603699, 0.4423533082008362, 0.35109469294548035, 0.4064408838748932, 0.34320950508117676, 0.3228585124015808, 0.28380513191223145, 0.27977651357650757, 0.4656696319580078, 0.30781835317611694, 0.32146260142326355, 0.4753910303115845, 0.41164177656173706, 0.28187230229377747]\n",
    "grads = grads[:25]"
   ]
  },
  {
   "cell_type": "code",
   "execution_count": null,
   "metadata": {},
   "outputs": [],
   "source": [
    "f1_scores = [0, 0, 0.02, 0.06, 0.10844, \n",
    "             0.0324, 0.24655, 0.3123, 0.779249, 0.816008,\n",
    "             0.8864097363083164, 0.8972431077694235, 0.8982278481012658,\n",
    "             0.8947630922693267, 0.8964143426294822, 0.898580121703854,\n",
    "             0.8984220907297831, 0.896551724137931, 0.9009649568308786,\n",
    "             0.887634684453566, 0.9015188633023027, 0.887202832574608, \n",
    "             0.8989547038327527, 0.887218045112782, 0.8923235445646575]"
   ]
  },
  {
   "cell_type": "code",
   "execution_count": null,
   "metadata": {},
   "outputs": [],
   "source": [
    "print(len(grads))"
   ]
  },
  {
   "cell_type": "code",
   "execution_count": null,
   "metadata": {},
   "outputs": [],
   "source": [
    "plt.rcParams[\"font.family\"] = \"Times New Roman\"\n",
    "fig = plt.figure(figsize=(5,5))\n",
    "ax = fig.add_subplot(111)\n",
    "g, = ax.plot(grads, linestyle='-', marker='s', color='b', markerfacecolor='none')\n",
    "f, = ax.plot(f1_scores, linestyle='-', marker='^', color='r', markerfacecolor='none')\n",
    "plt.legend([g, f], ['Gradient', 'Acurracy'], fontsize=25)\n",
    "plt.tight_layout()\n",
    "plt.grid(color='black', linestyle='-.')\n",
    "plt.xlim(0, 24)\n",
    "plt.ylim(0, 1)\n",
    "plt.yticks([0, 0.2, 0.4, 0.6, 0.8, 1.0], fontsize=30)\n",
    "plt.xticks([0, 5, 10, 15, 20, 24], [\"1\", \"5\", \"10\", \"15\", \"20\", \"25\"], fontsize=30)\n"
   ]
  },
  {
   "cell_type": "code",
   "execution_count": null,
   "metadata": {},
   "outputs": [],
   "source": [
    "# non-quasi semeval\n",
    "f1_scores = [0, 0, 0.023054755043227668, 0.038058991436726926, 0.1288076588337685,\n",
    "             0.032411820781696854, 0.11713286713286714, 0.1232638888888889, 0.22222222222222224,\n",
    "             0.22915042868277471, 0.33781965006729475, 0.21283509341998375, 0.25473843821076575, \n",
    "             0.24653312788906007, 0.25636942675159236, 0.4005847953216374, 0.7964514539181863, \n",
    "             0.7791780821917808, 0.8587229763700353, 0.8710801393728222, 0.8763468445356594, \n",
    "             0.8802005012531329, 0.8944472236118058, 0.9077050830397585, 0.9178833584715937]\n",
    "grads = [1, 0.7509065866470337, 0.768349289894104, 0.7725350856781006, 0.7672097086906433, 0.7408936619758606, 0.7251231670379639, 0.7309643626213074, 0.7327697277069092, 0.722244143486023, 0.7165133953094482, 0.7046288251876831, 0.7111701369285583, 0.7089152336120605, 0.6848648190498352, 0.6731955409049988, 0.655868649482727, 0.6494279503822327, 0.5999982953071594, 0.6499956250190735, 0.5288066864013672, 0.4675033390522003, 0.508086621761322, 0.5115203857421875, 0.39776304364204407, 0.37396442890167236, 0.4799198806285858, 0.3657478094100952, 0.3111937642097473, 0.38044482469558716, 0.3453109860420227]\n",
    "grads = grads[:25]\n",
    "\n"
   ]
  },
  {
   "cell_type": "code",
   "execution_count": null,
   "metadata": {},
   "outputs": [],
   "source": [
    "plt.rcParams[\"font.family\"] = \"Times New Roman\"\n",
    "fig = plt.figure(figsize=(5,5))\n",
    "ax = fig.add_subplot(111)\n",
    "g, = ax.plot(grads, linestyle='-', marker='s', color='b', markerfacecolor='none')\n",
    "f, = ax.plot(f1_scores, linestyle='-', marker='^', color='r', markerfacecolor='none')\n",
    "plt.tight_layout()\n",
    "plt.grid(color='black', linestyle='-.')\n",
    "plt.xlim(0, 24)\n",
    "plt.ylim(0, 1)\n",
    "plt.yticks([0, 0.2, 0.4, 0.6, 0.8, 1.0], fontsize=30)\n",
    "plt.xticks([0, 5, 10, 15, 20, 24], [\"1\", \"5\", \"10\", \"15\", \"20\", \"25\"], fontsize=30)"
   ]
  },
  {
   "cell_type": "code",
   "execution_count": null,
   "metadata": {},
   "outputs": [],
   "source": [
    "# quasi-sentihood\n",
    "f1_scores = [0.45471582266365185, 0.7887223811939732, 0.8013508765897253, 0.8182574715096568,\n",
    "             0.8218113806155452, 0.8076130582054173, 0.8111011294004168, 0.8210133092648388, \n",
    "            0.8102800153543908, 0.8082521995934046, 0.8143646397042046, 0.8059704504217384,\n",
    "            0.8190996191958383, 0.8652401772363258, 0.9209375625228751, 0.9140689398660004, \n",
    "            0.9247600064538062, 0.9376626454584225, 0.9073721034398871, 0.9234180270394464, \n",
    "            0.9221389351646975, 0.9272878330873275, 0.9372103640775333, 0.9258522953640869, \n",
    "            0.9452853977113524, 0.9552853977113524]\n",
    "grads = [1, 0.6710836291313171, 0.664985716342926, 0.6467165350914001, 0.6104057431221008, 0.5920002460479736, 0.5893218517303467, 0.5591245293617249, 0.5217680335044861, 0.5314010381698608, 0.5395297408103943, 0.5155467391014099, 0.5178194046020508, 0.5221627950668335, 0.5345546007156372, 0.4713890552520752, 0.477617084980011, 0.4602060914039612, 0.4370739758014679, 0.4571017026901245, 0.36851853132247925, 0.39174631237983704, 0.41272562742233276, 0.3163086771965027, 0.34830227494239807, 0.4129435122013092, 0.3338128328323364, 0.33092233538627625, 0.25370097160339355, 0.3036431074142456, 0.3181217908859253]\n",
    "grads = grads[:25]\n",
    "\n",
    "plt.rcParams[\"font.family\"] = \"Times New Roman\"\n",
    "fig = plt.figure(figsize=(5,5))\n",
    "ax = fig.add_subplot(111)\n",
    "g, = ax.plot(grads, linestyle='-', marker='s', color='b', markerfacecolor='none')\n",
    "f, = ax.plot(f1_scores, linestyle='-', marker='^', color='r', markerfacecolor='none')\n",
    "plt.tight_layout()\n",
    "plt.grid(color='black', linestyle='-.')\n",
    "plt.xlim(0, 24)\n",
    "plt.ylim(0, 1)\n",
    "plt.yticks([0, 0.2, 0.4, 0.6, 0.8, 1.0], fontsize=30)\n",
    "plt.xticks([0, 5, 10, 15, 20, 24], [\"1\", \"5\", \"10\", \"15\", \"20\", \"25\"], fontsize=30)"
   ]
  },
  {
   "cell_type": "code",
   "execution_count": null,
   "metadata": {},
   "outputs": [],
   "source": [
    "# non-quasi sentihood\n",
    "\n",
    "f1_scores = [0.45471582266365185, 0.7985617369217178, 0.795571233873186, 0.8102503020224604,\n",
    "             0.815624520367763, 0.6204055080409367, 0.8402420504584572, 0.9180681090948207, \n",
    "             0.9301930621985279, 0.9112134373710598, 0.9383638585217782, 0.9456719251140596, \n",
    "             0.9500713691786066, 0.9523813647572223, 0.9488866028626513, 0.9661040398921299,\n",
    "             0.9492457781154886, 0.9409183620687862, 0.9395640477867347, 0.9336767506962838,\n",
    "             0.9435195364711321, 0.9122093067859192, 0.9377301545499019, 0.9430406470274768, \n",
    "             0.9428719557916341, 0.9528719557916341]\n",
    "grads = [1, 0.7110836291313171, 0.724985716342926, 0.7067165350914001, 0.7104057431221008, 0.6920002460479736, \n",
    "         0.6793218517303467, 0.6291245293617249, 0.6517680335044861, 0.6414010381698608, 0.6395297408103943, \n",
    "         0.6355467391014099, 0.6478194046020508, 0.6121627950668335, 0.5845546007156372, 0.5713890552520752, \n",
    "         0.527617084980011, 0.5502060914039612, 0.5170739758014679, 0.4971017026901245, 0.51851853132247925, \n",
    "         0.48174631237983704, 0.47272562742233276, 0.4163086771965027, 0.39830227494239807, 0.4129435122013092, \n",
    "         0.3338128328323364, 0.33092233538627625, 0.25370097160339355, 0.3036431074142456, 0.3181217908859253]\n",
    "grads = grads[:25]\n",
    "\n",
    "plt.rcParams[\"font.family\"] = \"Times New Roman\"\n",
    "fig = plt.figure(figsize=(5,5))\n",
    "ax = fig.add_subplot(111)\n",
    "g, = ax.plot(grads, linestyle='-', marker='s', color='b', markerfacecolor='none')\n",
    "f, = ax.plot(f1_scores, linestyle='-', marker='^', color='r', markerfacecolor='none')\n",
    "plt.tight_layout()\n",
    "plt.grid(color='black', linestyle='-.')\n",
    "plt.xlim(0, 24)\n",
    "plt.ylim(0, 1)\n",
    "plt.yticks([0, 0.2, 0.4, 0.6, 0.8, 1.0], fontsize=30)\n",
    "plt.xticks([0, 5, 10, 15, 20, 24], [\"1\", \"5\", \"10\", \"15\", \"20\", \"25\"], fontsize=30)\n"
   ]
  },
  {
   "cell_type": "code",
   "execution_count": null,
   "metadata": {},
   "outputs": [],
   "source": [
    "# analyze quasi-attention weights and gates\n",
    "memo_bundle = torch.load(\"./memo_bundle.pt\", map_location=torch.device('cpu'))"
   ]
  },
  {
   "cell_type": "code",
   "execution_count": null,
   "metadata": {},
   "outputs": [],
   "source": [
    "memo_bundle = memo_bundle[0]"
   ]
  },
  {
   "cell_type": "code",
   "execution_count": null,
   "metadata": {},
   "outputs": [],
   "source": [
    "# attention_probs\n",
    "# quasi_attention_scores\n",
    "# lambda_context\n",
    "# combined_attention_probs\n",
    "\n",
    "layer_index = 0\n",
    "for layer_memo in memo_bundle:\n",
    "    print(\"layer=\"+str(layer_index+1))\n",
    "#     lambda_context = layer_memo[\"lambda_q\"][0]\n",
    "#     print(lambda_context)\n",
    "#     break\n",
    "    lambda_context_avg = lambda_context.mean().tolist()\n",
    "    print(lambda_context_avg)\n",
    "    layer_index += 1"
   ]
  },
  {
   "cell_type": "code",
   "execution_count": null,
   "metadata": {},
   "outputs": [],
   "source": [
    "memo_bundle[3][\"lambda_k\"]"
   ]
  },
  {
   "cell_type": "code",
   "execution_count": 3,
   "metadata": {},
   "outputs": [],
   "source": [
    "def getModelOptimizerTokenizer(model_type, vocab_file, embed_file=None, \n",
    "                               bert_config_file=None, init_checkpoint=None,\n",
    "                               label_list=None,\n",
    "                               do_lower_case=True,\n",
    "                               num_train_steps=None,\n",
    "                               learning_rate=None,\n",
    "                               base_learning_rate=None,\n",
    "                               warmup_proportion=None):\n",
    "    if embed_file is not None:\n",
    "        # in case pretrain embeddings\n",
    "        embeddings = pickle.load(open(embed_file, 'rb'))\n",
    "        \n",
    "    # this is the model we develop\n",
    "    tokenizer = FullTokenizer(\n",
    "        vocab_file=vocab_file, do_lower_case=do_lower_case, pretrain=False)\n",
    "    if bert_config_file is not None:\n",
    "        bert_config = BertConfig.from_json_file(bert_config_file)\n",
    "    else:\n",
    "        # default?\n",
    "        bert_config = BertConfig(\n",
    "            hidden_size=768,\n",
    "            num_hidden_layers=12,\n",
    "            num_attention_heads=12,\n",
    "            intermediate_size=3072,\n",
    "            hidden_act=\"gelu\",\n",
    "            hidden_dropout_prob=0.1,\n",
    "            attention_probs_dropout_prob=0.1,\n",
    "            max_position_embeddings=512,\n",
    "            type_vocab_size=2,\n",
    "            initializer_range=0.02\n",
    "        )\n",
    "    # overwrite the vocab size to be exact. this also save space incase\n",
    "    # vocab size is shrinked.\n",
    "    bert_config.vocab_size = len(tokenizer.vocab)\n",
    "    # model and optimizer\n",
    "    model = ContextAwareBertForSequenceClassification(\n",
    "                bert_config, len(label_list),\n",
    "                init_weight=False)\n",
    "    \n",
    "    checkpoint = torch.load(init_checkpoint, map_location='cpu')\n",
    "    adjust_checkpoint = dict()\n",
    "    for param_tensor in checkpoint.keys():\n",
    "        adjust_checkpoint[param_tensor[7:]] = checkpoint[param_tensor]\n",
    "\n",
    "    model.load_state_dict(adjust_checkpoint)\n",
    "    #######################################################################\n",
    "    optimizer = optim.Adam(model.parameters(), lr=learning_rate, weight_decay=1e-4)\n",
    "    #######################################################################\n",
    "    return model, optimizer, tokenizer\n"
   ]
  },
  {
   "cell_type": "code",
   "execution_count": 4,
   "metadata": {},
   "outputs": [],
   "source": [
    "model, optimizer, tokenizer = \\\n",
    "    getModelOptimizerTokenizer(\"ContextBERT\", \n",
    "                           vocab_file=\"../data/uncased_L-12_H-768_A-12/vocab.txt\",\n",
    "                           bert_config_file=\"../data/uncased_L-12_H-768_A-12/bert_config.json\",\n",
    "                           init_checkpoint=\"./sentihood_checkpoint.bin\",\n",
    "                           label_list=['None', 'Positive', 'Negative'],\n",
    "                           num_train_steps=1,\n",
    "                           learning_rate=2e-5,\n",
    "                           base_learning_rate=2e-5,\n",
    "                           warmup_proportion=0.1)"
   ]
  },
  {
   "cell_type": "code",
   "execution_count": null,
   "metadata": {},
   "outputs": [],
   "source": []
  },
  {
   "cell_type": "code",
   "execution_count": 54,
   "metadata": {},
   "outputs": [
    {
     "name": "stderr",
     "output_type": "stream",
     "text": [
      "100%|██████████| 1/1 [00:00<00:00, 718.33it/s]\n"
     ]
    }
   ],
   "source": [
    "test_in = InputExample(guid=\"0-0\", \n",
    "                       text_a=\"Thanks LOCATION1 has highest average living costs but is safest and poshest , LOCATION2 is the roughest area but cheapest all round\", \n",
    "                       text_b='location - 1 - price', \n",
    "                       label=\"Positive\")\n",
    "\n",
    "tokens_a = tokenizer.tokenize(test_in.text_a)\n",
    "\n",
    "test_features = convert_examples_to_features(\n",
    "    [test_in], ['None', 'Positive', 'Negative'], 512,\n",
    "    tokenizer, 6,\n",
    "    True)\n",
    "\n",
    "all_input_ids = torch.tensor([f.input_ids for f in test_features], dtype=torch.long)\n",
    "all_input_mask = torch.tensor([f.input_mask for f in test_features], dtype=torch.long)\n",
    "all_segment_ids = torch.tensor([f.segment_ids for f in test_features], dtype=torch.long)\n",
    "all_label_ids = torch.tensor([f.label_id for f in test_features], dtype=torch.long)\n",
    "all_seq_len = torch.tensor([[f.seq_len] for f in test_features], dtype=torch.long)\n",
    "all_context_ids = torch.tensor([f.context_ids for f in test_features], dtype=torch.long)\n",
    "all_context_len = torch.tensor([[f.context_len] for f in test_features], dtype=torch.long)\n",
    "target_id_convert = [[0,1,2,3], [4,5,6,7]]\n",
    "all_target_ids = torch.tensor([target_id_convert[f.target_id] for f in test_features], dtype=torch.long)\n",
    "\n",
    "test_data = TensorDataset(all_input_ids, all_input_mask, all_segment_ids,\n",
    "                          all_label_ids, all_seq_len, all_context_ids,\n",
    "                          all_context_len, all_target_ids)\n",
    "test_dataloader = DataLoader(test_data, batch_size=1, shuffle=False)\n"
   ]
  },
  {
   "cell_type": "code",
   "execution_count": 55,
   "metadata": {},
   "outputs": [
    {
     "name": "stdout",
     "output_type": "stream",
     "text": [
      "torch.Size([1, 31])\n",
      "tensor([[0.0164, 0.0988, 0.8847]], grad_fn=<SoftmaxBackward>)\n"
     ]
    }
   ],
   "source": [
    "model.eval()\n",
    "grads = None\n",
    "memo_bundle = None\n",
    "for input_ids, input_mask, segment_ids, label_ids, seq_lens, \\\n",
    "    context_ids, context_lens, all_target_ids in test_dataloader:\n",
    "    max_seq_lens = max(seq_lens)[0]\n",
    "    input_ids = input_ids[:,:max_seq_lens]\n",
    "    input_mask = input_mask[:,:max_seq_lens]\n",
    "    segment_ids = segment_ids[:,:max_seq_lens]\n",
    "    tmp_test_loss, logits, embedding_output, all_encoder_memo_bundle, _ = \\\n",
    "        model(input_ids, segment_ids, input_mask, seq_lens,\n",
    "                device=torch.device(\"cpu\"), labels=label_ids,\n",
    "                context_ids=context_ids,\n",
    "                context_lens=context_lens)\n",
    "\n",
    "    logits = F.softmax(logits, dim=-1)\n",
    "    sensitivity_class = 1\n",
    "    sensitivity_grads = torch.zeros(logits.shape)\n",
    "    sensitivity_grads[:,sensitivity_class] = 1.0\n",
    "    grads_in = torch.autograd.grad(logits, embedding_output, grad_outputs=sensitivity_grads)[0]\n",
    "    grads_in_norm = torch.norm(grads_in, dim=-1) * torch.norm(grads_in, dim=-1)\n",
    "    max_grads = torch.max(grads_in_norm)\n",
    "    grads_in_norm = grads_in_norm / max_grads\n",
    "    print(grads_in_norm.shape)\n",
    "    grads = grads_in_norm.squeeze(dim=0).tolist()\n",
    "    memo_bundle = all_encoder_memo_bundle\n",
    "    print(logits)"
   ]
  },
  {
   "cell_type": "code",
   "execution_count": 56,
   "metadata": {},
   "outputs": [
    {
     "name": "stdout",
     "output_type": "stream",
     "text": [
      "31\n"
     ]
    }
   ],
   "source": [
    "tokens_a_new = [\"[CLS]\"] + tokens_a + [\"[SEP]\"]\n",
    "print(len(tokens_a_new))"
   ]
  },
  {
   "cell_type": "code",
   "execution_count": 57,
   "metadata": {},
   "outputs": [
    {
     "data": {
      "text/plain": [
       "[('[CLS]', 0.015483628027141094),\n",
       " ('thanks', 0.07659727334976196),\n",
       " ('location', 0.02283579856157303),\n",
       " ('##1', 0.02936406061053276),\n",
       " ('has', 0.03458936884999275),\n",
       " ('highest', 0.13893410563468933),\n",
       " ('average', 0.08896587789058685),\n",
       " ('living', 0.08794022351503372),\n",
       " ('costs', 1.0),\n",
       " ('but', 0.029467273503541946),\n",
       " ('is', 0.014227394014596939),\n",
       " ('safe', 0.08752273768186569),\n",
       " ('##st', 0.03862462192773819),\n",
       " ('and', 0.016032399609684944),\n",
       " ('po', 0.15097376704216003),\n",
       " ('##sh', 0.7230157852172852),\n",
       " ('##est', 0.08469756692647934),\n",
       " (',', 0.028957849368453026),\n",
       " ('location', 0.040933165699243546),\n",
       " ('##2', 0.017027543857693672),\n",
       " ('is', 0.013930792920291424),\n",
       " ('the', 0.016729407012462616),\n",
       " ('rough', 0.12700320780277252),\n",
       " ('##est', 0.022745544090867043),\n",
       " ('area', 0.06409606337547302),\n",
       " ('but', 0.022327423095703125),\n",
       " ('cheap', 0.8606501817703247),\n",
       " ('##est', 0.2365674525499344),\n",
       " ('all', 0.06792391836643219),\n",
       " ('round', 0.04317764937877655),\n",
       " ('[SEP]', 0.01861918717622757)]"
      ]
     },
     "execution_count": 57,
     "metadata": {},
     "output_type": "execute_result"
    }
   ],
   "source": [
    "list(zip(tokens_a_new, grads))"
   ]
  },
  {
   "cell_type": "code",
   "execution_count": 58,
   "metadata": {},
   "outputs": [],
   "source": [
    "def heatmap_viz(token_grad):\n",
    "    scores = [tu[1] for tu in token_grad]\n",
    "    tokens = [tu[0] for tu in token_grad]\n",
    "    fig, ax = plt.subplots(figsize=(10,1))\n",
    "    ax = sns.heatmap([scores], cmap=\"Blues\", xticklabels=tokens, yticklabels=False,\n",
    "                     cbar_kws=dict(shrink=1, aspect=4, ), linewidths=0.8)\n",
    "    ax.set_xticklabels(tokens, size = 18)\n",
    "    cbar = ax.collections[0].colorbar\n",
    "    # here set the labelsize by 20\n",
    "    cbar.ax.tick_params(labelsize=20)\n",
    "    plt.show()"
   ]
  },
  {
   "cell_type": "code",
   "execution_count": 59,
   "metadata": {},
   "outputs": [
    {
     "data": {
      "image/png": "[encoded data removed]",
      "text/plain": [
       "<Figure size 720x72 with 2 Axes>"
      ]
     },
     "metadata": {},
     "output_type": "display_data"
    }
   ],
   "source": [
    "heatmap_viz(list(zip(tokens_a_new, grads)))"
   ]
  },
  {
   "cell_type": "code",
   "execution_count": null,
   "metadata": {},
   "outputs": [],
   "source": [
    "# quasi attention distribution\n",
    "model, optimizer, tokenizer = \\\n",
    "    getModelOptimizerTokenizer(\"ContextBERT\", \n",
    "                           vocab_file=\"../data/uncased_L-12_H-768_A-12/vocab.txt\",\n",
    "                           bert_config_file=\"../data/uncased_L-12_H-768_A-12/bert_config.json\",\n",
    "                           init_checkpoint=\"./quasi/sentihood_checkpoint.bin\",\n",
    "                           label_list=['None', 'Positive', 'Negative'],\n",
    "                           num_train_steps=1,\n",
    "                           learning_rate=2e-5,\n",
    "                           base_learning_rate=2e-5,\n",
    "                           warmup_proportion=0.1)"
   ]
  },
  {
   "cell_type": "code",
   "execution_count": null,
   "metadata": {},
   "outputs": [],
   "source": [
    "processors = {\n",
    "    \"sentihood_NLI_M\":Sentihood_NLI_M_Processor,\n",
    "    \"semeval_NLI_M\":Semeval_NLI_M_Processor\n",
    "}\n",
    "\n",
    "processor = processors[\"sentihood_NLI_M\"]()\n",
    "label_list = processor.get_labels()\n",
    "\n",
    "test_examples = processor.get_test_examples(\"../data/sentihood/bert-pair/\")\n",
    "test_features = convert_examples_to_features(\n",
    "    test_examples, label_list, 512,\n",
    "    tokenizer, 6,\n",
    "    True)\n",
    "\n",
    "all_input_ids = torch.tensor([f.input_ids for f in test_features], dtype=torch.long)\n",
    "all_input_mask = torch.tensor([f.input_mask for f in test_features], dtype=torch.long)\n",
    "all_segment_ids = torch.tensor([f.segment_ids for f in test_features], dtype=torch.long)\n",
    "all_label_ids = torch.tensor([f.label_id for f in test_features], dtype=torch.long)\n",
    "all_seq_len = torch.tensor([[f.seq_len] for f in test_features], dtype=torch.long)\n",
    "all_context_ids = torch.tensor([f.context_ids for f in test_features], dtype=torch.long)\n",
    "all_context_len = torch.tensor([[f.context_len] for f in test_features], dtype=torch.long)\n",
    "target_id_convert = [[0,1,2,3], [4,5,6,7]]\n",
    "all_target_ids = torch.tensor([target_id_convert[f.target_id] for f in test_features], dtype=torch.long)\n",
    "\n",
    "test_data = TensorDataset(all_input_ids, all_input_mask, all_segment_ids,\n",
    "                          all_label_ids, all_seq_len, all_context_ids,\n",
    "                          all_context_len, all_target_ids)\n",
    "test_dataloader = DataLoader(test_data, batch_size=1, shuffle=False)"
   ]
  },
  {
   "cell_type": "code",
   "execution_count": null,
   "metadata": {},
   "outputs": [],
   "source": [
    "12*[[]]"
   ]
  },
  {
   "cell_type": "code",
   "execution_count": null,
   "metadata": {},
   "outputs": [],
   "source": [
    "model.eval()\n",
    "grads = None\n",
    "memo_bundle = None\n",
    "samples_lambda_context = []\n",
    "\n",
    "attention_probs = []\n",
    "quasi_attention_scores = []\n",
    "new_attention_probs = []\n",
    "\n",
    "count = 0\n",
    "for input_ids, input_mask, segment_ids, label_ids, seq_lens, \\\n",
    "    context_ids, context_lens, all_target_ids in test_dataloader:\n",
    "    max_seq_lens = max(seq_lens)[0]\n",
    "    input_ids = input_ids[:,:max_seq_lens]\n",
    "    input_mask = input_mask[:,:max_seq_lens]\n",
    "    segment_ids = segment_ids[:,:max_seq_lens]\n",
    "    tmp_test_loss, logits, embedding_output, all_encoder_memo_bundle, _ = \\\n",
    "        model(input_ids, segment_ids, input_mask, seq_lens,\n",
    "                device=torch.device(\"cpu\"), labels=label_ids,\n",
    "                context_ids=context_ids,\n",
    "                context_lens=context_lens)\n",
    "\n",
    "    logits = F.softmax(logits, dim=-1)\n",
    "    sensitivity_class = 1\n",
    "    sensitivity_grads = torch.zeros(logits.shape)\n",
    "    sensitivity_grads[:,sensitivity_class] = 1.0\n",
    "    grads_in = torch.autograd.grad(logits, embedding_output, grad_outputs=sensitivity_grads)[0]\n",
    "    grads_in_norm = torch.norm(grads_in, dim=-1) * torch.norm(grads_in, dim=-1)\n",
    "    max_grads = torch.max(grads_in_norm)\n",
    "    grads_in_norm = grads_in_norm / max_grads\n",
    "\n",
    "    grads = grads_in_norm.squeeze(dim=0).tolist()\n",
    "    memo_bundle = all_encoder_memo_bundle\n",
    "    \n",
    "    # we consider labeled cases\n",
    "    if label_ids.tolist()[0] != 0:\n",
    "        for i in range(12):\n",
    "            lambda_context_avg = all_encoder_memo_bundle[i][\"lambda_context\"].flatten().tolist()\n",
    "            samples_lambda_context.extend(lambda_context_avg)\n",
    "            attention_probs.extend(all_encoder_memo_bundle[i][\"attention_probs\"].flatten().tolist())\n",
    "            quasi_attention_scores.extend(all_encoder_memo_bundle[i][\"quasi_attention_scores\"].flatten().tolist())\n",
    "            new_attention_probs.extend(all_encoder_memo_bundle[i][\"new_attention_probs\"].flatten().tolist())\n",
    "            \n",
    "        count += 1\n",
    "        print(\"count=\",count)\n",
    "    \n",
    "    if count == 200:\n",
    "        break\n"
   ]
  },
  {
   "cell_type": "code",
   "execution_count": null,
   "metadata": {},
   "outputs": [],
   "source": [
    "def plot_histgram(array_in,  facecolor='g', xl=-1, xh=1):\n",
    "    import matplotlib as mpl\n",
    "    mpl.style.use(\"default\")\n",
    "    font = {'family' : 'Times New Roman',\n",
    "            'size'   : 30}\n",
    "    plt.rc('font', **font)\n",
    "    \n",
    "    fig = plt.figure(figsize=(6,6))\n",
    "    ax = fig.add_subplot(111)\n",
    "    g = ax.hist(array_in, bins=50, facecolor=facecolor)\n",
    "    plt.grid(True)\n",
    "    plt.grid(color='black', linestyle='-.')\n",
    "    import matplotlib.ticker as mtick\n",
    "    ax.yaxis.set_major_formatter(mtick.FormatStrFormatter('%.2e'))\n",
    "    # ax.set_yscale('log')\n",
    "    plt.tight_layout()\n",
    "    plt.xlim(xl, xh)\n",
    "    # plt.xticks([-1, -0.5, 0, 0.5, 1], [\"-1.0\", \"-0.50\", \"0.0\", \"0.50\", \"1.0\"], fontsize=30)\n",
    "    plt.xticks([-0.5, -0.25, 0, 0.25, 0.5], [\"-0.50\", \"-0.25\", \"0.0\", \"0.25\", \"0.5\"], fontsize=30)\n",
    "    # plt.xticks([0, 0.25, 0.5, 0.75, 1], [\"0.0\", \"0.25\", \"0.50\", \"0.75\", \"1.0\"], fontsize=20)\n",
    "    # plt.xticks([0, 0.25, 0.5, 0.75, 1], [\"0.0\", \"0.25\", \"0.50\", \"0.75\", \"1.0\"], fontsize=20)\n",
    "    plt.show()"
   ]
  },
  {
   "cell_type": "code",
   "execution_count": null,
   "metadata": {},
   "outputs": [],
   "source": [
    "plot_histgram(samples_lambda_context, xl=-0.5, xh=0.5, facecolor='r')"
   ]
  },
  {
   "cell_type": "code",
   "execution_count": null,
   "metadata": {},
   "outputs": [],
   "source": [
    "plot_histgram(attention_probs, facecolor=\"y\", xl=0, xh=1)"
   ]
  },
  {
   "cell_type": "code",
   "execution_count": null,
   "metadata": {},
   "outputs": [],
   "source": [
    "plot_histgram(quasi_attention_scores, facecolor=\"b\", xl=0, xh=1)"
   ]
  },
  {
   "cell_type": "code",
   "execution_count": null,
   "metadata": {},
   "outputs": [],
   "source": [
    "plot_histgram(new_attention_probs, facecolor=\"g\", xl=-1, xh=1)"
   ]
  },
  {
   "cell_type": "code",
   "execution_count": null,
   "metadata": {},
   "outputs": [],
   "source": [
    "import seaborn as sns; sns.set()\n",
    "plt.rcParams[\"font.family\"] = \"Times New Roman\"\n",
    "\n",
    "def heatmap_viz(token_grad):\n",
    "    scores = [tu[1] for tu in token_grad]\n",
    "    tokens = [tu[0] for tu in token_grad]\n",
    "    fig, ax = plt.subplots(figsize=(10,1))\n",
    "    ax = sns.heatmap([scores], cmap=\"Blues\", xticklabels=tokens, yticklabels=False,\n",
    "                     cbar_kws=dict(shrink=1, aspect=4, ), linewidths=0.8)\n",
    "    ax.set_xticklabels(tokens, size = 20)\n",
    "    cbar = ax.collections[0].colorbar\n",
    "    # here set the labelsize by 20\n",
    "    cbar.ax.tick_params(labelsize=20)\n",
    "    plt.show()\n",
    "\n",
    "tokens_a_new = [\"[CLS]\"] + tokens_a + [\"[SEP]\"]\n",
    "heatmap_viz(list(zip(tokens_a_new, grads)))"
   ]
  }
 ],
 "metadata": {
  "kernelspec": {
   "display_name": "Python 3",
   "language": "python",
   "name": "python3"
  },
  "language_info": {
   "codemirror_mode": {
    "name": "ipython",
    "version": 3
   },
   "file_extension": ".py",
   "mimetype": "text/x-python",
   "name": "python",
   "nbconvert_exporter": "python",
   "pygments_lexer": "ipython3",
   "version": "3.7.3"
  }
 },
 "nbformat": 4,
 "nbformat_minor": 4
}
